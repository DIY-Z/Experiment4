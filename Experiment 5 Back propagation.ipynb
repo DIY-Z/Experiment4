{
 "cells": [
  {
   "attachments": {},
   "cell_type": "markdown",
   "metadata": {},
   "source": [
    "参考代码:https://www.cnblogs.com/finley/p/5946000.html"
   ]
  }
 ],
 "metadata": {
  "kernelspec": {
   "display_name": "base",
   "language": "python",
   "name": "python3"
  },
  "language_info": {
   "name": "python",
   "version": "3.7.0 (default, Jun 28 2018, 13:15:42) \n[GCC 7.2.0]"
  },
  "orig_nbformat": 4,
  "vscode": {
   "interpreter": {
    "hash": "78b7b346f775876dba9d978f7846b48f195f465d830149d01120dfd65bb36287"
   }
  }
 },
 "nbformat": 4,
 "nbformat_minor": 2
}
